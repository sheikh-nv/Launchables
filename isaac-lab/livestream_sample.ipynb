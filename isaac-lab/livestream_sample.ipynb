{
 "cells": [
  {
   "cell_type": "markdown",
   "id": "7e2ff454-b14a-4ef1-986c-9087c003ea53",
   "metadata": {},
   "source": [
    "# Isaac Lab Sample Notebook with Livestreaming\n",
    "\n",
    "This notebook demonstrates how to remotely livestream Isaac Lab from a Jupyter Notebook.\n"
   ]
  },
  {
   "cell_type": "markdown",
   "id": "c8f4eee1",
   "metadata": {},
   "source": [
    "## Get Public IP Address\n",
    "\n",
    "This cell get the public IP address of the instance."
   ]
  },
  {
   "cell_type": "code",
   "execution_count": null,
   "id": "71d91d6e",
   "metadata": {
    "vscode": {
     "languageId": "shellscript"
    }
   },
   "outputs": [],
   "source": [
    "!curl -4 ifconfig.me\n"
   ]
  },
  {
   "cell_type": "markdown",
   "id": "ddc54d6a",
   "metadata": {},
   "source": [
    "## Run a sample script with livestreaming\n",
    "\n",
    "Run this cell to set the environment variables enable livestreaming and run a sample script."
   ]
  },
  {
   "cell_type": "code",
   "execution_count": null,
   "id": "4fa2cf0f-cf3c-4383-a233-216ff1f48c5d",
   "metadata": {
    "vscode": {
     "languageId": "shellscript"
    }
   },
   "outputs": [],
   "source": [
    "!PUBLIC_IP=$(curl -4 ifconfig.me) LIVESTREAM=2 ./isaaclab.sh -p /scripts/demos/quadrupeds.py\n"
   ]
  }
 ],
 "metadata": {
  "kernelspec": {
   "display_name": "Python 3 (ipykernel)",
   "language": "python",
   "name": "python3"
  },
  "language_info": {
   "codemirror_mode": {
    "name": "ipython",
    "version": 3
   },
   "file_extension": ".py",
   "mimetype": "text/x-python",
   "name": "python",
   "nbconvert_exporter": "python",
   "pygments_lexer": "ipython3",
   "version": "3.10.15"
  }
 },
 "nbformat": 4,
 "nbformat_minor": 5
}
